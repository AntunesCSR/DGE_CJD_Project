{
 "cells": [
  {
   "cell_type": "code",
   "execution_count": 2,
   "metadata": {},
   "outputs": [],
   "source": [
    "import os\n",
    "import re"
   ]
  },
  {
   "cell_type": "markdown",
   "metadata": {},
   "source": [
    "### Differential Gene Expression in CJD affected brain tissue"
   ]
  },
  {
   "cell_type": "code",
   "execution_count": 6,
   "metadata": {},
   "outputs": [],
   "source": [
    "# Import necessary libraries\n",
    "import os\n",
    "import re\n",
    "import pandas as pd\n",
    "\n",
    "# Function to extract and sort gene expression data from .RCC files\n",
    "def process_rcc_file(file_path):\n",
    "    # Extract information from the file name using a regular expression\n",
    "    pattern = re.compile(r'GSM(\\d+)_([\\d_]+)_(\\d+)_([A-Za-z0-9_-]+).RCC')\n",
    "    match = re.match(pattern, file_path)\n",
    "\n",
    "    if match:\n",
    "        gsm_number = match.group(1)\n",
    "        date = match.group(2)\n",
    "        unique_identifier = match.group(3)\n",
    "        patient_id = match.group(4)\n",
    "\n",
    "        # Read the .RCC file into a pandas DataFrame (replace with your actual data reading method)\n",
    "        # Example assumes the file contains columns like 'Gene' and 'Expression'\n",
    "        df = pd.read_csv(file_path, delimiter='\\t')  # Adjust delimiter if needed\n",
    "\n",
    "        # Sort the DataFrame by the 'Expression' column (replace with your actual column name)\n",
    "        df_sorted = df.sort_values(by='Expression', ascending=False)\n",
    "\n",
    "        # Return the sorted DataFrame along with relevant metadata\n",
    "        return {\n",
    "            'GSM_Number': gsm_number,\n",
    "            'Date': date,\n",
    "            'Unique_Identifier': unique_identifier,\n",
    "            'Patient_ID': patient_id,\n",
    "            'Sorted_Data': df_sorted\n",
    "        }\n",
    "    else:\n",
    "        print(f\"File {file_path} does not match the expected pattern.\")\n",
    "        return None\n",
    "\n",
    "# Function to process a directory containing .RCC files\n",
    "def process_directory(directory_path):\n",
    "    # List all files in the specified directory\n",
    "    file_list = [f for f in os.listdir(directory_path) if f.endswith('.RCC')]\n",
    "\n",
    "    # Process each .RCC file in the directory\n",
    "    result_list = []\n",
    "    for file_name in file_list:\n",
    "        file_path = os.path.join(directory_path, file_name)\n",
    "        result = process_rcc_file(file_path)\n",
    "\n",
    "        if result:\n",
    "            result_list.append(result)\n",
    "\n",
    "    return result_list\n",
    "\n",
    "# Specify the path to the directory containing your .RCC files\n",
    "data_directory = r'C:\\Users\\antun\\OneDrive\\Documents\\Education\\MRes\\Year 2 - Semester 1\\Omics\\Project\\DGE_CJD_Project\\GSE160208_RAW'\n",
    "\n",
    "# Call the process_directory function to process files in the directory\n",
    "processed_data = process_directory(data_directory)\n",
    "\n",
    "# Display the processed data (replace with further analysis or export steps)\n",
    "for result in processed_data:\n",
    "    print(f\"\\nProcessing Data for GSM Number: {result['GSM_Number']}\")\n",
    "    print(f\"Patient ID: {result['Patient_ID']}\")\n",
    "    print(f\"Date: {result['Date']}\")\n",
    "    print(\"\\nSorted Expression Data:\")\n",
    "    print(result['Sorted_Data'])\n"
   ]
  },
  {
   "cell_type": "code",
   "execution_count": null,
   "metadata": {},
   "outputs": [],
   "source": [
    "# Perform exploratory data analysis"
   ]
  },
  {
   "cell_type": "code",
   "execution_count": null,
   "metadata": {},
   "outputs": [],
   "source": [
    "# Perform differential expression analysis"
   ]
  }
 ],
 "metadata": {
  "kernelspec": {
   "display_name": "Python 3",
   "language": "python",
   "name": "python3"
  },
  "language_info": {
   "codemirror_mode": {
    "name": "ipython",
    "version": 3
   },
   "file_extension": ".py",
   "mimetype": "text/x-python",
   "name": "python",
   "nbconvert_exporter": "python",
   "pygments_lexer": "ipython3",
   "version": "3.10.11"
  }
 },
 "nbformat": 4,
 "nbformat_minor": 2
}
